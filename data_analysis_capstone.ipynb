{
 "cells": [
  {
   "cell_type": "markdown",
   "metadata": {},
   "source": [
    "#### Introduction / Business Problem"
   ]
  },
  {
   "cell_type": "markdown",
   "metadata": {},
   "source": [
    "Anecdotally, you hear in drivers’ ed classes and other places that dawn and dusk are times of increased of accidents.  Is this true? Does accident frequency and severity vary based upon time of day of the accident?  If it does vary, how do the time frames of dawn and dusk compare?  If correlation is in fact identified, then this information, along with additional data such as road and weather conditions, can feed back to automotive engineers, city planners, and safety experts.  They may be able to use this data for improvements to design and planning of roads and also the creation and implantation of additional safety systems on cars in the near future."
   ]
  },
  {
   "cell_type": "markdown",
   "metadata": {},
   "source": [
    "#### Data"
   ]
  },
  {
   "cell_type": "markdown",
   "metadata": {},
   "source": [
    "The data for this analysis is provided by the sample data set from the course.  Data is supplied that includes the following:\n",
    "•\tAccident Severity (1,2)\n",
    "•\tAddress type (block, intersection, alley)\n",
    "•\tCollision type (Angles, sideswipe, left turn, head on, etc)\n",
    "•\tPerson count\n",
    "•\tPedestrian Count\n",
    "•\tCyclist Count\n",
    "•\tVehicle count\n",
    "•\tWeather (Overcast, raining, clear..)\n",
    "•\tRoad Condition (Wet, dry…)\n",
    "•\tLight condition (Daylight, dark, dusk, dawn..)\n",
    "These data blocks will allow for the analysis of the severity of the accident as well as if the time of day correlates to any specific attributes of the accident.\n"
   ]
  }
 ],
 "metadata": {
  "kernelspec": {
   "display_name": "Python 3",
   "language": "python",
   "name": "python3"
  },
  "language_info": {
   "codemirror_mode": {
    "name": "ipython",
    "version": 3
   },
   "file_extension": ".py",
   "mimetype": "text/x-python",
   "name": "python",
   "nbconvert_exporter": "python",
   "pygments_lexer": "ipython3",
   "version": "3.8.3"
  }
 },
 "nbformat": 4,
 "nbformat_minor": 4
}
